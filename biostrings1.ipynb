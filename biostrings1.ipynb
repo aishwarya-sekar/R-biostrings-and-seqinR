{
 "cells": [
  {
   "cell_type": "code",
   "execution_count": 26,
   "metadata": {},
   "outputs": [
    {
     "name": "stderr",
     "output_type": "stream",
     "text": [
      "Bioconductor version 3.10 (BiocManager 1.30.10), R 3.6.1 (2019-07-05)\n",
      "\n",
      "Installing package(s) 'Biostrings'\n",
      "\n",
      "Updating HTML index of packages in '.Library'\n",
      "\n",
      "Making 'packages.html' ...\n",
      " done\n",
      "\n",
      "Old packages: 'askpass', 'backports', 'BH', 'bit', 'bit64', 'boot', 'broom',\n",
      "  'callr', 'caret', 'class', 'clipr', 'cluster', 'covr', 'curl', 'data.table',\n",
      "  'devtools', 'dplyr', 'DT', 'ellipsis', 'evaluate', 'fansi', 'forcats',\n",
      "  'foreach', 'formatR', 'fs', 'glmnet', 'glue', 'gower', 'hexbin', 'htmltools',\n",
      "  'htmlwidgets', 'httpuv', 'httr', 'ipred', 'iterators', 'jsonlite',\n",
      "  'KernSmooth', 'knitr', 'later', 'lattice', 'lava', 'lubridate', 'markdown',\n",
      "  'MASS', 'Matrix', 'matrixStats', 'mgcv', 'mime', 'ModelMetrics', 'nlme',\n",
      "  'nnet', 'numDeriv', 'openssl', 'pkgbuild', 'pkgconfig', 'pkgload', 'plyr',\n",
      "  'prettyunits', 'processx', 'prodlim', 'progress', 'promises', 'ps',\n",
      "  'quantmod', 'R6', 'Rcpp', 'recipes', 'remotes', 'repr', 'reshape2',\n",
      "  'rmarkdown', 'roxygen2', 'rversions', 'scales', 'selectr', 'shiny',\n",
      "  'spatial', 'SQUAREM', 'stringi', 'survival', 'sys', 'tidyr', 'tinytex',\n",
      "  'TTR', 'usethis', 'uuid', 'vctrs', 'whisker', 'withr', 'xfun', 'xts', 'yaml',\n",
      "  'zoo'\n",
      "\n"
     ]
    }
   ],
   "source": [
    "\n",
    "BiocManager::install(\"Biostrings\")"
   ]
  },
  {
   "cell_type": "code",
   "execution_count": 46,
   "metadata": {},
   "outputs": [],
   "source": [
    "library(\"Biostrings\")"
   ]
  },
  {
   "cell_type": "code",
   "execution_count": 27,
   "metadata": {},
   "outputs": [],
   "source": [
    "require(Biostrings)"
   ]
  },
  {
   "cell_type": "code",
   "execution_count": 47,
   "metadata": {},
   "outputs": [
    {
     "data": {
      "text/html": [
       "<ol class=list-inline>\n",
       "\t<li>'A'</li>\n",
       "\t<li>'B'</li>\n",
       "\t<li>'C'</li>\n",
       "\t<li>'D'</li>\n",
       "\t<li>'E'</li>\n",
       "\t<li>'F'</li>\n",
       "\t<li>'G'</li>\n",
       "\t<li>'H'</li>\n",
       "\t<li>'I'</li>\n",
       "\t<li>'J'</li>\n",
       "\t<li>'K'</li>\n",
       "\t<li>'L'</li>\n",
       "\t<li>'M'</li>\n",
       "\t<li>'N'</li>\n",
       "\t<li>'O'</li>\n",
       "\t<li>'P'</li>\n",
       "\t<li>'Q'</li>\n",
       "\t<li>'R'</li>\n",
       "\t<li>'S'</li>\n",
       "\t<li>'T'</li>\n",
       "\t<li>'U'</li>\n",
       "\t<li>'V'</li>\n",
       "\t<li>'W'</li>\n",
       "\t<li>'X'</li>\n",
       "\t<li>'Y'</li>\n",
       "\t<li>'Z'</li>\n",
       "</ol>\n"
      ],
      "text/latex": [
       "\\begin{enumerate*}\n",
       "\\item 'A'\n",
       "\\item 'B'\n",
       "\\item 'C'\n",
       "\\item 'D'\n",
       "\\item 'E'\n",
       "\\item 'F'\n",
       "\\item 'G'\n",
       "\\item 'H'\n",
       "\\item 'I'\n",
       "\\item 'J'\n",
       "\\item 'K'\n",
       "\\item 'L'\n",
       "\\item 'M'\n",
       "\\item 'N'\n",
       "\\item 'O'\n",
       "\\item 'P'\n",
       "\\item 'Q'\n",
       "\\item 'R'\n",
       "\\item 'S'\n",
       "\\item 'T'\n",
       "\\item 'U'\n",
       "\\item 'V'\n",
       "\\item 'W'\n",
       "\\item 'X'\n",
       "\\item 'Y'\n",
       "\\item 'Z'\n",
       "\\end{enumerate*}\n"
      ],
      "text/markdown": [
       "1. 'A'\n",
       "2. 'B'\n",
       "3. 'C'\n",
       "4. 'D'\n",
       "5. 'E'\n",
       "6. 'F'\n",
       "7. 'G'\n",
       "8. 'H'\n",
       "9. 'I'\n",
       "10. 'J'\n",
       "11. 'K'\n",
       "12. 'L'\n",
       "13. 'M'\n",
       "14. 'N'\n",
       "15. 'O'\n",
       "16. 'P'\n",
       "17. 'Q'\n",
       "18. 'R'\n",
       "19. 'S'\n",
       "20. 'T'\n",
       "21. 'U'\n",
       "22. 'V'\n",
       "23. 'W'\n",
       "24. 'X'\n",
       "25. 'Y'\n",
       "26. 'Z'\n",
       "\n",
       "\n"
      ],
      "text/plain": [
       " [1] \"A\" \"B\" \"C\" \"D\" \"E\" \"F\" \"G\" \"H\" \"I\" \"J\" \"K\" \"L\" \"M\" \"N\" \"O\" \"P\" \"Q\" \"R\" \"S\"\n",
       "[20] \"T\" \"U\" \"V\" \"W\" \"X\" \"Y\" \"Z\""
      ]
     },
     "metadata": {},
     "output_type": "display_data"
    }
   ],
   "source": [
    "LETTERS"
   ]
  },
  {
   "cell_type": "code",
   "execution_count": 54,
   "metadata": {},
   "outputs": [
    {
     "data": {
      "text/html": [
       "<ol class=list-inline>\n",
       "\t<li>'T'</li>\n",
       "\t<li>'A'</li>\n",
       "\t<li>'G'</li>\n",
       "\t<li>'G'</li>\n",
       "\t<li>'T'</li>\n",
       "\t<li>'T'</li>\n",
       "\t<li>'T'</li>\n",
       "\t<li>'G'</li>\n",
       "\t<li>'T'</li>\n",
       "\t<li>'C'</li>\n",
       "</ol>\n"
      ],
      "text/latex": [
       "\\begin{enumerate*}\n",
       "\\item 'T'\n",
       "\\item 'A'\n",
       "\\item 'G'\n",
       "\\item 'G'\n",
       "\\item 'T'\n",
       "\\item 'T'\n",
       "\\item 'T'\n",
       "\\item 'G'\n",
       "\\item 'T'\n",
       "\\item 'C'\n",
       "\\end{enumerate*}\n"
      ],
      "text/markdown": [
       "1. 'T'\n",
       "2. 'A'\n",
       "3. 'G'\n",
       "4. 'G'\n",
       "5. 'T'\n",
       "6. 'T'\n",
       "7. 'T'\n",
       "8. 'G'\n",
       "9. 'T'\n",
       "10. 'C'\n",
       "\n",
       "\n"
      ],
      "text/plain": [
       " [1] \"T\" \"A\" \"G\" \"G\" \"T\" \"T\" \"T\" \"G\" \"T\" \"C\""
      ]
     },
     "metadata": {},
     "output_type": "display_data"
    }
   ],
   "source": [
    "sample(LETTERS[c(1,3,7,20)], size=10, replace=TRUE)"
   ]
  },
  {
   "cell_type": "code",
   "execution_count": 50,
   "metadata": {},
   "outputs": [
    {
     "data": {
      "text/html": [
       "<ol class=list-inline>\n",
       "\t<li>'A'</li>\n",
       "\t<li>'C'</li>\n",
       "\t<li>'G'</li>\n",
       "\t<li>'T'</li>\n",
       "\t<li>'M'</li>\n",
       "\t<li>'R'</li>\n",
       "\t<li>'W'</li>\n",
       "\t<li>'S'</li>\n",
       "\t<li>'Y'</li>\n",
       "\t<li>'K'</li>\n",
       "\t<li>'V'</li>\n",
       "\t<li>'H'</li>\n",
       "\t<li>'D'</li>\n",
       "\t<li>'B'</li>\n",
       "\t<li>'N'</li>\n",
       "\t<li>'-'</li>\n",
       "\t<li>'+'</li>\n",
       "\t<li>'.'</li>\n",
       "</ol>\n"
      ],
      "text/latex": [
       "\\begin{enumerate*}\n",
       "\\item 'A'\n",
       "\\item 'C'\n",
       "\\item 'G'\n",
       "\\item 'T'\n",
       "\\item 'M'\n",
       "\\item 'R'\n",
       "\\item 'W'\n",
       "\\item 'S'\n",
       "\\item 'Y'\n",
       "\\item 'K'\n",
       "\\item 'V'\n",
       "\\item 'H'\n",
       "\\item 'D'\n",
       "\\item 'B'\n",
       "\\item 'N'\n",
       "\\item '-'\n",
       "\\item '+'\n",
       "\\item '.'\n",
       "\\end{enumerate*}\n"
      ],
      "text/markdown": [
       "1. 'A'\n",
       "2. 'C'\n",
       "3. 'G'\n",
       "4. 'T'\n",
       "5. 'M'\n",
       "6. 'R'\n",
       "7. 'W'\n",
       "8. 'S'\n",
       "9. 'Y'\n",
       "10. 'K'\n",
       "11. 'V'\n",
       "12. 'H'\n",
       "13. 'D'\n",
       "14. 'B'\n",
       "15. 'N'\n",
       "16. '-'\n",
       "17. '+'\n",
       "18. '.'\n",
       "\n",
       "\n"
      ],
      "text/plain": [
       " [1] \"A\" \"C\" \"G\" \"T\" \"M\" \"R\" \"W\" \"S\" \"Y\" \"K\" \"V\" \"H\" \"D\" \"B\" \"N\" \"-\" \"+\" \".\""
      ]
     },
     "metadata": {},
     "output_type": "display_data"
    }
   ],
   "source": [
    "DNA_ALPHABET"
   ]
  },
  {
   "cell_type": "code",
   "execution_count": 104,
   "metadata": {},
   "outputs": [
    {
     "data": {
      "text/html": [
       "<ol class=list-inline>\n",
       "\t<li>'T'</li>\n",
       "\t<li>'A'</li>\n",
       "\t<li>'G'</li>\n",
       "\t<li>'G'</li>\n",
       "\t<li>'G'</li>\n",
       "\t<li>'C'</li>\n",
       "\t<li>'G'</li>\n",
       "\t<li>'T'</li>\n",
       "\t<li>'A'</li>\n",
       "\t<li>'A'</li>\n",
       "</ol>\n"
      ],
      "text/latex": [
       "\\begin{enumerate*}\n",
       "\\item 'T'\n",
       "\\item 'A'\n",
       "\\item 'G'\n",
       "\\item 'G'\n",
       "\\item 'G'\n",
       "\\item 'C'\n",
       "\\item 'G'\n",
       "\\item 'T'\n",
       "\\item 'A'\n",
       "\\item 'A'\n",
       "\\end{enumerate*}\n"
      ],
      "text/markdown": [
       "1. 'T'\n",
       "2. 'A'\n",
       "3. 'G'\n",
       "4. 'G'\n",
       "5. 'G'\n",
       "6. 'C'\n",
       "7. 'G'\n",
       "8. 'T'\n",
       "9. 'A'\n",
       "10. 'A'\n",
       "\n",
       "\n"
      ],
      "text/plain": [
       " [1] \"T\" \"A\" \"G\" \"G\" \"G\" \"C\" \"G\" \"T\" \"A\" \"A\""
      ]
     },
     "metadata": {},
     "output_type": "display_data"
    }
   ],
   "source": [
    "seq = sample(DNA_ALPHABET[1:4], size=10, replace=TRUE)\n",
    "seq"
   ]
  },
  {
   "cell_type": "code",
   "execution_count": 32,
   "metadata": {},
   "outputs": [
    {
     "data": {
      "text/html": [
       "'ATCCAGCGGT'"
      ],
      "text/latex": [
       "'ATCCAGCGGT'"
      ],
      "text/markdown": [
       "'ATCCAGCGGT'"
      ],
      "text/plain": [
       "[1] \"ATCCAGCGGT\""
      ]
     },
     "metadata": {},
     "output_type": "display_data"
    }
   ],
   "source": [
    "#Convert seq into a string with\n",
    "\n",
    "seq = paste(seq, collapse=\"\")\n",
    "seq"
   ]
  },
  {
   "cell_type": "markdown",
   "metadata": {},
   "source": [
    "The XString class\n",
    "The XString class allows us to create, store, and work with different types of strings. We are only allowed to work with subclasses of XString: BString, DNAString, RNAString, and AAString.\n",
    "\n",
    "Let’s create a BString object:"
   ]
  },
  {
   "cell_type": "code",
   "execution_count": 55,
   "metadata": {},
   "outputs": [
    {
     "data": {
      "text/plain": [
       "  13-letter \"BString\" instance\n",
       "seq: I am a doctor"
      ]
     },
     "metadata": {},
     "output_type": "display_data"
    }
   ],
   "source": [
    "bstring = BString(\"I am a doctor\")\n",
    "bstring"
   ]
  },
  {
   "cell_type": "code",
   "execution_count": 56,
   "metadata": {},
   "outputs": [
    {
     "data": {
      "text/html": [
       "13"
      ],
      "text/latex": [
       "13"
      ],
      "text/markdown": [
       "13"
      ],
      "text/plain": [
       "[1] 13"
      ]
     },
     "metadata": {},
     "output_type": "display_data"
    }
   ],
   "source": [
    "length(bstring)"
   ]
  },
  {
   "cell_type": "code",
   "execution_count": 57,
   "metadata": {},
   "outputs": [
    {
     "data": {
      "text/plain": [
       "  12-letter \"DNAString\" instance\n",
       "seq: TTGAAA-CTC-N"
      ]
     },
     "metadata": {},
     "output_type": "display_data"
    }
   ],
   "source": [
    "dnastring = DNAString(\"TTGAAA-CTC-N\")\n",
    "dnastring"
   ]
  },
  {
   "cell_type": "code",
   "execution_count": 37,
   "metadata": {},
   "outputs": [
    {
     "data": {
      "text/html": [
       "12"
      ],
      "text/latex": [
       "12"
      ],
      "text/markdown": [
       "12"
      ],
      "text/plain": [
       "[1] 12"
      ]
     },
     "metadata": {},
     "output_type": "display_data"
    }
   ],
   "source": [
    "length(dnastring)"
   ]
  },
  {
   "cell_type": "code",
   "execution_count": 39,
   "metadata": {},
   "outputs": [
    {
     "data": {
      "text/html": [
       "<dl class=dl-horizontal>\n",
       "\t<dt>A</dt>\n",
       "\t\t<dd>3</dd>\n",
       "\t<dt>C</dt>\n",
       "\t\t<dd>2</dd>\n",
       "\t<dt>G</dt>\n",
       "\t\t<dd>1</dd>\n",
       "\t<dt>T</dt>\n",
       "\t\t<dd>3</dd>\n",
       "\t<dt>M</dt>\n",
       "\t\t<dd>0</dd>\n",
       "\t<dt>R</dt>\n",
       "\t\t<dd>0</dd>\n",
       "\t<dt>W</dt>\n",
       "\t\t<dd>0</dd>\n",
       "\t<dt>S</dt>\n",
       "\t\t<dd>0</dd>\n",
       "\t<dt>Y</dt>\n",
       "\t\t<dd>0</dd>\n",
       "\t<dt>K</dt>\n",
       "\t\t<dd>0</dd>\n",
       "\t<dt>V</dt>\n",
       "\t\t<dd>0</dd>\n",
       "\t<dt>H</dt>\n",
       "\t\t<dd>0</dd>\n",
       "\t<dt>D</dt>\n",
       "\t\t<dd>0</dd>\n",
       "\t<dt>B</dt>\n",
       "\t\t<dd>0</dd>\n",
       "\t<dt>N</dt>\n",
       "\t\t<dd>1</dd>\n",
       "\t<dt>-</dt>\n",
       "\t\t<dd>2</dd>\n",
       "\t<dt>+</dt>\n",
       "\t\t<dd>0</dd>\n",
       "\t<dt>.</dt>\n",
       "\t\t<dd>0</dd>\n",
       "</dl>\n"
      ],
      "text/latex": [
       "\\begin{description*}\n",
       "\\item[A] 3\n",
       "\\item[C] 2\n",
       "\\item[G] 1\n",
       "\\item[T] 3\n",
       "\\item[M] 0\n",
       "\\item[R] 0\n",
       "\\item[W] 0\n",
       "\\item[S] 0\n",
       "\\item[Y] 0\n",
       "\\item[K] 0\n",
       "\\item[V] 0\n",
       "\\item[H] 0\n",
       "\\item[D] 0\n",
       "\\item[B] 0\n",
       "\\item[N] 1\n",
       "\\item[-] 2\n",
       "\\item[+] 0\n",
       "\\item[.] 0\n",
       "\\end{description*}\n"
      ],
      "text/markdown": [
       "A\n",
       ":   3C\n",
       ":   2G\n",
       ":   1T\n",
       ":   3M\n",
       ":   0R\n",
       ":   0W\n",
       ":   0S\n",
       ":   0Y\n",
       ":   0K\n",
       ":   0V\n",
       ":   0H\n",
       ":   0D\n",
       ":   0B\n",
       ":   0N\n",
       ":   1-\n",
       ":   2+\n",
       ":   0.\n",
       ":   0\n",
       "\n"
      ],
      "text/plain": [
       "A C G T M R W S Y K V H D B N - + . \n",
       "3 2 1 3 0 0 0 0 0 0 0 0 0 0 1 2 0 0 "
      ]
     },
     "metadata": {},
     "output_type": "display_data"
    }
   ],
   "source": [
    "alphabetFrequency(dnastring)"
   ]
  },
  {
   "cell_type": "code",
   "execution_count": 59,
   "metadata": {},
   "outputs": [
    {
     "data": {
      "text/plain": [
       "  1-letter \"BString\" instance\n",
       "seq:  "
      ]
     },
     "metadata": {},
     "output_type": "display_data"
    }
   ],
   "source": [
    "bstring[5]"
   ]
  },
  {
   "cell_type": "code",
   "execution_count": 41,
   "metadata": {},
   "outputs": [
    {
     "data": {
      "text/plain": [
       "  1-letter \"DNAString\" instance\n",
       "seq: T"
      ]
     },
     "metadata": {},
     "output_type": "display_data"
    }
   ],
   "source": [
    "dnastring[2]"
   ]
  },
  {
   "cell_type": "code",
   "execution_count": 43,
   "metadata": {},
   "outputs": [
    {
     "data": {
      "text/plain": [
       "  3-letter \"BString\" instance\n",
       "seq: am "
      ]
     },
     "metadata": {},
     "output_type": "display_data"
    }
   ],
   "source": [
    "subseq(bstring, start=3, end=5)"
   ]
  },
  {
   "cell_type": "code",
   "execution_count": 62,
   "metadata": {},
   "outputs": [
    {
     "data": {
      "text/plain": [
       "  6-letter \"BString\" instance\n",
       "seq: am a d"
      ]
     },
     "metadata": {},
     "output_type": "display_data"
    }
   ],
   "source": [
    "bb = subseq(bstring, 3, 8)\n",
    "bb\n"
   ]
  },
  {
   "cell_type": "code",
   "execution_count": 63,
   "metadata": {},
   "outputs": [
    {
     "data": {
      "text/html": [
       "FALSE"
      ],
      "text/latex": [
       "FALSE"
      ],
      "text/markdown": [
       "FALSE"
      ],
      "text/plain": [
       "[1] FALSE"
      ]
     },
     "metadata": {},
     "output_type": "display_data"
    }
   ],
   "source": [
    "bb == BString(\"am a\")"
   ]
  },
  {
   "cell_type": "code",
   "execution_count": 64,
   "metadata": {},
   "outputs": [
    {
     "data": {
      "text/html": [
       "TRUE"
      ],
      "text/latex": [
       "TRUE"
      ],
      "text/markdown": [
       "TRUE"
      ],
      "text/plain": [
       "[1] TRUE"
      ]
     },
     "metadata": {},
     "output_type": "display_data"
    }
   ],
   "source": [
    "bb == \"am a d\""
   ]
  },
  {
   "cell_type": "code",
   "execution_count": 65,
   "metadata": {},
   "outputs": [
    {
     "data": {
      "text/plain": [
       "  Views on a 12-letter DNAString subject\n",
       "subject: TTGAAA-CTC-N\n",
       "views:\n",
       "    start end width\n",
       "[1]     3   5     3 [GAA]\n",
       "[2]     2   6     5 [TGAAA]\n",
       "[3]     1   7     7 [TTGAAA-]\n",
       "[4]     0   8     9 [ TTGAAA-C]"
      ]
     },
     "metadata": {},
     "output_type": "display_data"
    }
   ],
   "source": [
    "##The XStringViews class\n",
    "view = Views(dnastring, start=3:0, end=5:8)\n",
    "view"
   ]
  },
  {
   "cell_type": "code",
   "execution_count": 101,
   "metadata": {},
   "outputs": [
    {
     "data": {
      "text/plain": [
       "  Views on a 13-letter BString subject\n",
       "subject: I am a doctor\n",
       "views:\n",
       "    start end width\n",
       "[1]     3   5     3 [am ]\n",
       "[2]     2   6     5 [ am a]\n",
       "[3]     1   7     7 [I am a ]\n",
       "[4]     0   8     9 [ I am a d]"
      ]
     },
     "metadata": {},
     "output_type": "display_data"
    }
   ],
   "source": [
    "view = Views(bstring, start=3:0, end=5:8)\n",
    "view"
   ]
  },
  {
   "cell_type": "code",
   "execution_count": 103,
   "metadata": {},
   "outputs": [
    {
     "data": {
      "text/plain": [
       "  Views on a 13-letter BString subject\n",
       "subject: I am a doctor\n",
       "views:\n",
       "    start end width\n",
       "[1]     0   8     9 [ I am a d]\n",
       "[2]     1   7     7 [I am a ]\n",
       "[3]     2   6     5 [ am a]\n",
       "[4]     3   5     3 [am ]"
      ]
     },
     "metadata": {},
     "output_type": "display_data"
    }
   ],
   "source": [
    "view[4:1]"
   ]
  },
  {
   "cell_type": "markdown",
   "metadata": {},
   "source": [
    "XStringSet\n",
    "The XStringSet objects provide a convenient way of storing several XString objects together."
   ]
  },
  {
   "cell_type": "code",
   "execution_count": 108,
   "metadata": {},
   "outputs": [
    {
     "data": {
      "text/html": [
       "<ol class=list-inline>\n",
       "\t<li>'ATCCGATGAC'</li>\n",
       "\t<li>'TGTCATAAGA'</li>\n",
       "\t<li>'TTGCACCAGA'</li>\n",
       "\t<li>'GCCGGACGGA'</li>\n",
       "</ol>\n"
      ],
      "text/latex": [
       "\\begin{enumerate*}\n",
       "\\item 'ATCCGATGAC'\n",
       "\\item 'TGTCATAAGA'\n",
       "\\item 'TTGCACCAGA'\n",
       "\\item 'GCCGGACGGA'\n",
       "\\end{enumerate*}\n"
      ],
      "text/markdown": [
       "1. 'ATCCGATGAC'\n",
       "2. 'TGTCATAAGA'\n",
       "3. 'TTGCACCAGA'\n",
       "4. 'GCCGGACGGA'\n",
       "\n",
       "\n"
      ],
      "text/plain": [
       "[1] \"ATCCGATGAC\" \"TGTCATAAGA\" \"TTGCACCAGA\" \"GCCGGACGGA\""
      ]
     },
     "metadata": {},
     "output_type": "display_data"
    }
   ],
   "source": [
    "set = NULL\n",
    "for (i in 1:4)\n",
    "  set = c(set, paste(sample(DNA_ALPHABET[1:4], 10, replace=TRUE), collapse=\"\"))\n",
    "set"
   ]
  },
  {
   "cell_type": "code",
   "execution_count": 107,
   "metadata": {},
   "outputs": [
    {
     "data": {
      "text/html": [
       "4"
      ],
      "text/latex": [
       "4"
      ],
      "text/markdown": [
       "4"
      ],
      "text/plain": [
       "[1] 4"
      ]
     },
     "metadata": {},
     "output_type": "display_data"
    }
   ],
   "source": [
    "length(set)\n"
   ]
  },
  {
   "cell_type": "code",
   "execution_count": 109,
   "metadata": {},
   "outputs": [
    {
     "data": {
      "text/plain": [
       "  A DNAStringSet instance of length 4\n",
       "    width seq\n",
       "[1]    10 ATCCGATGAC\n",
       "[2]    10 TGTCATAAGA\n",
       "[3]    10 TTGCACCAGA\n",
       "[4]    10 GCCGGACGGA"
      ]
     },
     "metadata": {},
     "output_type": "display_data"
    }
   ],
   "source": [
    "set = DNAStringSet(set)\n",
    "set"
   ]
  },
  {
   "cell_type": "code",
   "execution_count": 110,
   "metadata": {},
   "outputs": [
    {
     "data": {
      "text/plain": [
       "  A DNAStringSet instance of length 4\n",
       "    width seq\n",
       "[1]    10 GTCATCGGAT\n",
       "[2]    10 TCTTATGACA\n",
       "[3]    10 TCTGGTGCAA\n",
       "[4]    10 TCCGTCCGGC"
      ]
     },
     "metadata": {},
     "output_type": "display_data"
    }
   ],
   "source": [
    "reverseComplement(set)"
   ]
  },
  {
   "cell_type": "code",
   "execution_count": 76,
   "metadata": {},
   "outputs": [
    {
     "data": {
      "text/html": [
       "<ol class=list-inline>\n",
       "\t<li>10</li>\n",
       "\t<li>10</li>\n",
       "\t<li>10</li>\n",
       "\t<li>10</li>\n",
       "</ol>\n"
      ],
      "text/latex": [
       "\\begin{enumerate*}\n",
       "\\item 10\n",
       "\\item 10\n",
       "\\item 10\n",
       "\\item 10\n",
       "\\end{enumerate*}\n"
      ],
      "text/markdown": [
       "1. 10\n",
       "2. 10\n",
       "3. 10\n",
       "4. 10\n",
       "\n",
       "\n"
      ],
      "text/plain": [
       "[1] 10 10 10 10"
      ]
     },
     "metadata": {},
     "output_type": "display_data"
    }
   ],
   "source": [
    "width(set)"
   ]
  },
  {
   "cell_type": "code",
   "execution_count": 111,
   "metadata": {},
   "outputs": [
    {
     "data": {
      "text/plain": [
       "  A DNAStringSet instance of length 4\n",
       "    width seq\n",
       "[1]     3 ATC\n",
       "[2]     3 TGT\n",
       "[3]     3 TTG\n",
       "[4]     3 GCC"
      ]
     },
     "metadata": {},
     "output_type": "display_data"
    }
   ],
   "source": [
    "subseq(set, 1, 3)"
   ]
  },
  {
   "cell_type": "code",
   "execution_count": 78,
   "metadata": {},
   "outputs": [],
   "source": [
    "names(set) = paste(\"name\", 1:4, sep=\"\")"
   ]
  },
  {
   "cell_type": "code",
   "execution_count": 79,
   "metadata": {},
   "outputs": [
    {
     "data": {
      "text/plain": [
       "  A DNAStringSet instance of length 4\n",
       "    width seq                                               names               \n",
       "[1]    10 GCTATCGTTA                                        name1\n",
       "[2]    10 AACTTAATGT                                        name2\n",
       "[3]    10 AGACAGCACA                                        name3\n",
       "[4]    10 TCACTACTGA                                        name4"
      ]
     },
     "metadata": {},
     "output_type": "display_data"
    }
   ],
   "source": [
    "set"
   ]
  },
  {
   "cell_type": "code",
   "execution_count": 99,
   "metadata": {},
   "outputs": [],
   "source": [
    "\n",
    "sequence1 <- \"gcagaaagaactctgtgccctaccaggtctctctgaacagcggctaccacttctgtggaggctccctgat ctccagcacctgggtggtgtctgctgctcactgctacaagtcgtaagtgcaaacgattgattgataaactccttagtcttactaaaatcacttcacaatttccatttgaaacaataaattaaatccacttccatctctctgtagccgtgtgcaggtgcgtcttggtgagcacaacattgctctcaatgagggcacagagcagttcatcagctctgctaaggtcatccgtcaccccagatacagcagccgcaacctggacaatgacatcatgctcatcaagctgagcaagcccgccaccctgaacagctacgtccgcaccgtgtccctgccctccagctgtgccagctctggcaccagctgtctgatctctggatggggcaacaccagcagctctggaagtcagtaaaatactgcaaatataacggaagtctttttggtacttggtaaggtgtgaatacttacatgtattgtgtttttcttttctaggcaactaccctgatcgtctgaggtgcctgaatgcccccatcctgagcgacagcagctgcaggaactcctaccctggtcagatcacctccaacatgttctgtgctggattcctcgagggaggcaaggactcctgccaggtacgagctacaatcatcatcactgtttcctgaagtg gacacatcaaagttgagaacacctctgctca\"\n",
    "sequence2 <- \"tccattcatatactccttttcgaacagtttacgtgagacacttctccacaatgtatcgttgtttagttttagttgctctactgagcttagcccacggctataccattcttgataaatttaatggacgtattgtcggcggtgaggacaccactattgagcagcatccataccaggtctcaatatggatagttgaagagcaagtgcacttctgcggtggcagtcttatcagttgctctcagccgcacattgtctgctcggcttcgaaccatcagaattgcgtgtacgcttgggttcaacaaactccaccaatggcggtatcttggccgaaattgcacgcataaagacacacccgggttttagcgctgctaccgcaatgaatgatattgctttgttgcggttggcccaaccggtggcacaaacgaatagcatacgctatattgaactcgctgatgaagtaccaccaactggcacaccggctgtagtctccggttggggactcaggtgtagctattgccttaaaacgccagttactttacaaactattgacttggagattgtaacacgtgcagattgcgcctcagatacttataagtatggcgaacaaatcaaagaaactatggtttgtgcttatgcattgaagaaggatgcctgcgatggtgattcgggtggtccgctggtggctgaaggcaaattgattggtgctgtttcgtggtcaaaaggctgtgccaaaaaggattatcctggtgtttacgctagtataccagaactacgtcagtggatatccagcgctattgaggagttggccggtgatgtttcatatttgtaaaattttggatttgtttaaaaagtcagtatataaaagtgtatataagtactatattattacctaaaatattgactatatgaaaaaaatttcaaataatattaaatcagtatcttcttcgtttcggttggtttatataatatatgaaaataatattctcggaccataacttg\"\n",
    "\n",
    "sequence1 <- gsub(\" \",\"\",sequence1)\n",
    "\n",
    "sequence2 <- gsub(\" \",\"\",sequence2)\n"
   ]
  },
  {
   "cell_type": "code",
   "execution_count": 100,
   "metadata": {},
   "outputs": [
    {
     "data": {
      "text/plain": [
       "Global PairwiseAlignmentsSingleSubject (1 of 1)\n",
       "pattern: GC-AGAAAGA-ACTCTGTGCCCTACCAGGTCTCT...AAAGTTGAGAACAC----CTCTGCTCA-------\n",
       "subject: TCCATTCATATACTCCTTTTCGAACA--GTTTAC...ATATATGAAAATAATATTCTCGGACCATAACTTG\n",
       "score: -247 "
      ]
     },
     "metadata": {},
     "output_type": "display_data"
    }
   ],
   "source": [
    "myScoringMat <- nucleotideSubstitutionMatrix(match = 1, mismatch = -1, baseOnly = TRUE)\n",
    "gapOpen <- 2\n",
    "gapExtend <- 1\n",
    "myGlobalAlignment <- pairwiseAlignment(DNAString( sequence1 ), DNAString( sequence2),\n",
    "                                 substitutionMatrix = myScoringMat, gapOpening = gapOpen,\n",
    "                                 gapExtension = gapExtend, type=\"global\", scoreOnly = FALSE)\n",
    "myGlobalAlignment"
   ]
  },
  {
   "cell_type": "code",
   "execution_count": 96,
   "metadata": {},
   "outputs": [
    {
     "data": {
      "text/plain": [
       "Local PairwiseAlignmentsSingleSubject (1 of 1)\n",
       "pattern:  [18] CCCTACCAGGTCTC\n",
       "subject: [165] CCATACCAGGTCTC\n",
       "score: 12 "
      ]
     },
     "metadata": {},
     "output_type": "display_data"
    }
   ],
   "source": [
    "myLocalAlignment <- pairwiseAlignment(DNAString( sequence1 ), DNAString( sequence2 ),\n",
    "                                 substitutionMatrix = myScoringMat, gapOpening = gapOpen,\n",
    "                                 gapExtension = gapExtend, type=\"local\", scoreOnly = FALSE)\n",
    "myLocalAlignment"
   ]
  },
  {
   "cell_type": "code",
   "execution_count": null,
   "metadata": {},
   "outputs": [],
   "source": []
  }
 ],
 "metadata": {
  "kernelspec": {
   "display_name": "R",
   "language": "R",
   "name": "ir"
  },
  "language_info": {
   "codemirror_mode": "r",
   "file_extension": ".r",
   "mimetype": "text/x-r-source",
   "name": "R",
   "pygments_lexer": "r",
   "version": "3.6.1"
  }
 },
 "nbformat": 4,
 "nbformat_minor": 4
}
